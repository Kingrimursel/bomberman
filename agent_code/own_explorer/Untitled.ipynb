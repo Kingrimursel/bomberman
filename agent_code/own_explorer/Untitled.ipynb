{
 "cells": [
  {
   "cell_type": "code",
   "execution_count": 2,
   "id": "3b6a0812-dc52-4afe-8376-96ab8fef7278",
   "metadata": {},
   "outputs": [],
   "source": [
    "import pickle\n",
    "\n",
    "import numpy as np\n",
    "from collections import namedtuple, deque\n",
    "import random"
   ]
  },
  {
   "cell_type": "code",
   "execution_count": 28,
   "id": "195a69f7-6d34-4d4d-970f-f55c7d14c35a",
   "metadata": {},
   "outputs": [
    {
     "name": "stdout",
     "output_type": "stream",
     "text": [
      "[ -5.00199593  -5.00063954 -19.1794947  -42.06578382  -4.99999222\n",
      " -72.18137751]\n"
     ]
    }
   ],
   "source": [
    "with open(\"my-saved-model.pt\", \"rb\") as file:\n",
    "    model = pickle.load(file)\n",
    "print(model[1,0,0,1,0,1])"
   ]
  },
  {
   "cell_type": "code",
   "execution_count": 146,
   "id": "7854f5f6-9f99-447d-92b9-a7b60b4f7a68",
   "metadata": {},
   "outputs": [],
   "source": [
    "Transition = namedtuple('Transition',\n",
    "                        ('state', 'action', 'next_state', 'reward'))\n",
    "action = {'UP': 0, 'RIGHT': 1, 'DOWN': 2,'LEFT': 3 , 'WAIT': 4, 'BOMB': 5}"
   ]
  },
  {
   "cell_type": "code",
   "execution_count": 147,
   "id": "408ed707-31e8-4429-be90-47bb42998793",
   "metadata": {},
   "outputs": [],
   "source": [
    "transitions = deque(maxlen=3)"
   ]
  },
  {
   "cell_type": "code",
   "execution_count": 155,
   "id": "c4e83d4c-5212-475f-8c2e-08422711009a",
   "metadata": {},
   "outputs": [],
   "source": [
    "transitions.append(Transition([3,5,9],'DOWN',[3,5,9],50))\n",
    "\n",
    "\n",
    "\n",
    "\n"
   ]
  },
  {
   "cell_type": "code",
   "execution_count": 156,
   "id": "70b30cb9-9763-4a5c-a627-e31c44ed5ffc",
   "metadata": {},
   "outputs": [
    {
     "name": "stdout",
     "output_type": "stream",
     "text": [
      "deque([Transition(state=[3, 5, 9], action='DOWN', next_state=[3, 5, 9], reward=50), Transition(state=[3, 5, 9], action='DOWN', next_state=[3, 5, 9], reward=50), Transition(state=[3, 5, 9], action='DOWN', next_state=[3, 5, 9], reward=50)], maxlen=3)\n"
     ]
    }
   ],
   "source": [
    "print(transitions)"
   ]
  },
  {
   "cell_type": "code",
   "execution_count": 6,
   "id": "86223eea-73ce-44f5-be7b-6be53a68c0d2",
   "metadata": {},
   "outputs": [],
   "source": [
    "actions = np.array([old_state for (old_state,a,new_state,reward) in transitions])"
   ]
  },
  {
   "cell_type": "code",
   "execution_count": 7,
   "id": "a1d31b2f-8bf0-4068-80ef-808cbf91960c",
   "metadata": {},
   "outputs": [
    {
     "name": "stdout",
     "output_type": "stream",
     "text": [
      "[56]\n"
     ]
    }
   ],
   "source": [
    "print(np.max(actions, axis=1))"
   ]
  },
  {
   "cell_type": "code",
   "execution_count": 8,
   "id": "2fa348b4-2ea8-4ba4-bb68-75db139ef5df",
   "metadata": {},
   "outputs": [],
   "source": [
    "gamma_exp = np.array([0.9**k for k in range(0,4)])"
   ]
  },
  {
   "cell_type": "code",
   "execution_count": 9,
   "id": "8aa6b353-e6d5-47f8-9a3f-1fe327a7191b",
   "metadata": {},
   "outputs": [
    {
     "name": "stdout",
     "output_type": "stream",
     "text": [
      "-6.516\n"
     ]
    }
   ],
   "source": [
    "print(np.sum(gamma_exp*np.array([0,-4,0,-4])))"
   ]
  },
  {
   "cell_type": "code",
   "execution_count": 68,
   "id": "87b3a89e-9f46-4d8c-8bc1-3c79844dec23",
   "metadata": {},
   "outputs": [],
   "source": [
    "a = [(1,2),(3,2),(0,8),(7,7)]"
   ]
  },
  {
   "cell_type": "code",
   "execution_count": 71,
   "id": "5dea335a-0bd4-4df0-a908-90c4f3e02b29",
   "metadata": {},
   "outputs": [
    {
     "name": "stdout",
     "output_type": "stream",
     "text": [
      "IN\n"
     ]
    }
   ],
   "source": [
    "if (0,8) in a:\n",
    "    print('IN')\n"
   ]
  },
  {
   "cell_type": "code",
   "execution_count": 17,
   "id": "ebfe2124-06ba-4d71-a25d-ae60ee32c483",
   "metadata": {},
   "outputs": [
    {
     "name": "stdout",
     "output_type": "stream",
     "text": [
      "-1 0\n",
      "1 0\n",
      "0 -1\n",
      "0 1\n"
     ]
    }
   ],
   "source": [
    "for num, (i,j) in enumerate([(x + h, y) for h in [-1, 1]] + [(x, y + h) for h in [-1, 1]]):   \n",
    "    print(i,j)"
   ]
  },
  {
   "cell_type": "code",
   "execution_count": 32,
   "id": "912ffa8e-91b5-489b-9604-d02e9b356439",
   "metadata": {},
   "outputs": [
    {
     "data": {
      "text/plain": [
       "'UP'"
      ]
     },
     "execution_count": 32,
     "metadata": {},
     "output_type": "execute_result"
    }
   ],
   "source": [
    "\n",
    "ACTIONS = ['UP', 'RIGHT', 'DOWN', 'LEFT', 'WAIT', 'BOMB']\n",
    "np.random.choice(ACTIONS, p=[.25, .25, .25, .25, .0, .0])"
   ]
  },
  {
   "cell_type": "code",
   "execution_count": 1,
   "id": "ff85eb5b-183f-4b23-bc5f-25494eaa4972",
   "metadata": {},
   "outputs": [],
   "source": [
    "def fun(a):\n",
    "    return a,a,True"
   ]
  },
  {
   "cell_type": "code",
   "execution_count": 2,
   "id": "59fc22ea-8761-4763-a1d6-b92f3d395a85",
   "metadata": {},
   "outputs": [],
   "source": [
    "c,d,e = fun(3)"
   ]
  },
  {
   "cell_type": "code",
   "execution_count": 3,
   "id": "82355d3d-3c62-4845-9aa5-a20216629d20",
   "metadata": {},
   "outputs": [
    {
     "name": "stdout",
     "output_type": "stream",
     "text": [
      "True\n"
     ]
    }
   ],
   "source": [
    "print(e)"
   ]
  },
  {
   "cell_type": "code",
   "execution_count": 210,
   "id": "03b1e5d8-bf68-4ab1-ab87-737e0537cf05",
   "metadata": {},
   "outputs": [
    {
     "name": "stdout",
     "output_type": "stream",
     "text": [
      "[[5. 5. 5. 5. 5. 5. 5. 5. 5. 5. 5. 5. 5. 5. 5. 5. 5.]\n",
      " [5. 5. 5. 3. 5. 5. 5. 5. 5. 5. 5. 5. 5. 5. 5. 5. 5.]\n",
      " [5. 5. 5. 5. 5. 5. 5. 5. 5. 5. 5. 5. 5. 5. 5. 5. 5.]\n",
      " [5. 5. 5. 5. 5. 5. 5. 5. 5. 5. 5. 5. 5. 5. 5. 5. 5.]\n",
      " [5. 5. 5. 5. 5. 5. 5. 5. 5. 5. 5. 5. 5. 5. 5. 5. 5.]\n",
      " [5. 5. 5. 5. 5. 5. 5. 5. 5. 5. 5. 5. 5. 5. 5. 5. 5.]\n",
      " [5. 5. 5. 5. 5. 5. 5. 5. 5. 5. 5. 5. 5. 5. 5. 5. 5.]\n",
      " [5. 5. 5. 5. 5. 5. 5. 5. 5. 5. 5. 5. 5. 5. 5. 5. 5.]\n",
      " [5. 5. 5. 5. 5. 5. 5. 5. 5. 5. 5. 5. 5. 5. 5. 5. 5.]\n",
      " [5. 5. 5. 5. 5. 5. 5. 5. 5. 5. 5. 5. 5. 5. 5. 5. 5.]\n",
      " [5. 5. 5. 5. 5. 5. 5. 5. 5. 5. 5. 5. 5. 5. 5. 5. 5.]\n",
      " [5. 5. 5. 5. 5. 5. 5. 5. 5. 5. 5. 5. 5. 5. 5. 5. 5.]\n",
      " [5. 5. 5. 5. 5. 5. 5. 5. 5. 5. 5. 5. 5. 5. 5. 5. 5.]\n",
      " [5. 5. 5. 5. 5. 5. 5. 5. 5. 5. 5. 5. 5. 5. 5. 5. 5.]\n",
      " [5. 5. 5. 5. 5. 5. 5. 5. 5. 5. 5. 5. 5. 5. 5. 5. 5.]\n",
      " [5. 5. 5. 5. 5. 5. 5. 5. 5. 5. 5. 5. 5. 5. 5. 5. 5.]\n",
      " [5. 5. 5. 5. 5. 5. 5. 5. 5. 5. 5. 5. 5. 5. 5. 5. 5.]]\n"
     ]
    }
   ],
   "source": [
    "bomb_map = np.ones((17,17))*5\n",
    "explosion_map =np.zeros((17,17))\n",
    "\n",
    "explosion_map[]\n",
    "\n",
    "bomb_map[1,3]=3\n",
    "print(bomb_map)"
   ]
  },
  {
   "cell_type": "code",
   "execution_count": 159,
   "id": "b67f9a1c-bef9-48f5-b1a1-3be2f5d74df1",
   "metadata": {},
   "outputs": [
    {
     "name": "stdout",
     "output_type": "stream",
     "text": [
      "5.0\n"
     ]
    }
   ],
   "source": [
    "print(np.max(matrix[None]))"
   ]
  },
  {
   "cell_type": "code",
   "execution_count": 105,
   "id": "11d61e6b-879f-42d9-918e-125ee80e37dd",
   "metadata": {},
   "outputs": [
    {
     "name": "stdout",
     "output_type": "stream",
     "text": [
      "[(1, 2), (2, 3), (15, 8)]\n"
     ]
    }
   ],
   "source": [
    "print(array)"
   ]
  },
  {
   "cell_type": "code",
   "execution_count": 106,
   "id": "dd426c4d-199e-4ee4-9247-133bc3f083bf",
   "metadata": {},
   "outputs": [
    {
     "name": "stdout",
     "output_type": "stream",
     "text": [
      "[(-2, 1), (-1, 1), (0, 1), (1, 1), (2, 1), (3, 1), (4, 1), (1, -2), (1, -1), (1, 0), (1, 1), (1, 2), (1, 3), (1, 4)]\n"
     ]
    }
   ],
   "source": [
    "(x,y)=(1,1)\n",
    "\n",
    "array = [(x + h, y) for h in range(-3, 4)] + [(x, y + h) for h in range(-3, 4)]\n",
    "\n",
    "\n",
    "print(array)"
   ]
  },
  {
   "cell_type": "code",
   "execution_count": 122,
   "id": "64816a2b-7e6a-400e-937b-01a9a5ad85cb",
   "metadata": {},
   "outputs": [],
   "source": [
    "hit =[]\n",
    "\n",
    "hit = hit+[(1,2)]\n",
    "hit = hit+[(1,2)]\n",
    "hit = hit+[(2,3)]\n",
    "\n",
    "test = [(1,5)]"
   ]
  },
  {
   "cell_type": "code",
   "execution_count": 123,
   "id": "cc45e3d3-f4f0-4792-ad69-8d81cf63c5d1",
   "metadata": {},
   "outputs": [
    {
     "name": "stdout",
     "output_type": "stream",
     "text": [
      "[(1, 2), (1, 2), (2, 3)]\n"
     ]
    }
   ],
   "source": [
    "print(hit)"
   ]
  },
  {
   "cell_type": "code",
   "execution_count": 124,
   "id": "70e207d7-24b0-4df4-88a6-4a8f59d078e6",
   "metadata": {},
   "outputs": [
    {
     "data": {
      "text/plain": [
       "3"
      ]
     },
     "execution_count": 124,
     "metadata": {},
     "output_type": "execute_result"
    }
   ],
   "source": [
    "def fun(a,b,c):\n",
    "    return 3\n",
    "\n",
    "\n",
    "fun(2,(1,2)[0],(1,2)[1])"
   ]
  },
  {
   "cell_type": "code",
   "execution_count": 125,
   "id": "c8a2d538-ada0-45d4-8313-648c74c0d707",
   "metadata": {},
   "outputs": [],
   "source": [
    "\n",
    "array = [(i,j) for (i,j) in hit if matrix[i,j]<5]"
   ]
  },
  {
   "cell_type": "code",
   "execution_count": 126,
   "id": "c4629f70-95ee-4194-955f-94f908026209",
   "metadata": {},
   "outputs": [
    {
     "name": "stdout",
     "output_type": "stream",
     "text": [
      "[(1, 2), (1, 2), (2, 3)]\n"
     ]
    }
   ],
   "source": [
    "print(array)"
   ]
  },
  {
   "cell_type": "code",
   "execution_count": 130,
   "id": "3b615c57-90ab-4c25-889f-c2a6714eb85a",
   "metadata": {},
   "outputs": [],
   "source": [
    "trarray= ['TEST','FLEST','CHEST','MEST']"
   ]
  },
  {
   "cell_type": "code",
   "execution_count": 137,
   "id": "13457110-266f-43b7-9456-cbc720c4492c",
   "metadata": {},
   "outputs": [],
   "source": [
    "grarray = [i for i in trarray if (i != 'TEST' and i!='MEST')]"
   ]
  },
  {
   "cell_type": "code",
   "execution_count": 138,
   "id": "13db8840-88a3-4707-8d5d-10d6d8285071",
   "metadata": {},
   "outputs": [
    {
     "name": "stdout",
     "output_type": "stream",
     "text": [
      "['FLEST', 'CHEST']\n"
     ]
    }
   ],
   "source": [
    "print(grarray)"
   ]
  },
  {
   "cell_type": "code",
   "execution_count": 140,
   "id": "1695ce3f-db0c-45a2-b2d6-325cd38727c5",
   "metadata": {},
   "outputs": [
    {
     "name": "stdout",
     "output_type": "stream",
     "text": [
      "yes\n"
     ]
    }
   ],
   "source": [
    "if 'TEST' in trarray:\n",
    "    print('yes')"
   ]
  },
  {
   "cell_type": "code",
   "execution_count": 200,
   "id": "314d6b50-e536-4129-bbb1-8d9a46340dd9",
   "metadata": {},
   "outputs": [],
   "source": [
    "action = 'ACTION'"
   ]
  },
  {
   "cell_type": "code",
   "execution_count": 201,
   "id": "c28bbd81-1406-436d-b8c1-8ee9ae072537",
   "metadata": {},
   "outputs": [],
   "source": [
    "bl = action!='ACTION'"
   ]
  },
  {
   "cell_type": "code",
   "execution_count": 206,
   "id": "2ffdf5ee-58bd-4ab0-aa29-a2e82dbf2682",
   "metadata": {},
   "outputs": [],
   "source": [
    "(x,y)=(0,0)"
   ]
  },
  {
   "cell_type": "code",
   "execution_count": 208,
   "id": "a4830f49-781b-4392-b2c2-b794af7c6d84",
   "metadata": {},
   "outputs": [
    {
     "name": "stdout",
     "output_type": "stream",
     "text": [
      "-1 0\n",
      "1 0\n",
      "0 -1\n",
      "0 1\n"
     ]
    }
   ],
   "source": [
    "for num, (i,j) in enumerate([(x + h, y) for h in [-1, 1]] + [(x, y + h) for h in [-1, 1]]):\n",
    "    print(i,j)"
   ]
  },
  {
   "cell_type": "code",
   "execution_count": 213,
   "id": "3b016e8d-7217-4916-abd0-19c209ca16c6",
   "metadata": {},
   "outputs": [],
   "source": [
    "p = [(x,y) for (x,y) in np.array(np.where(bomb_map+explosion_map!=5)).T]"
   ]
  },
  {
   "cell_type": "code",
   "execution_count": 214,
   "id": "cb20e24b-50a7-42b9-8f61-e0fd1633d6db",
   "metadata": {},
   "outputs": [
    {
     "name": "stdout",
     "output_type": "stream",
     "text": [
      "[(1, 3)]\n"
     ]
    }
   ],
   "source": [
    "print(p)"
   ]
  },
  {
   "cell_type": "code",
   "execution_count": 216,
   "id": "84d467e5-be0c-45da-b68c-b59c6468b632",
   "metadata": {},
   "outputs": [
    {
     "name": "stdout",
     "output_type": "stream",
     "text": [
      "9\n"
     ]
    }
   ],
   "source": [
    "x = 5\n",
    "\n",
    "if(x<7):\n",
    "    print(9)\n",
    "elif(x<9):\n",
    "    print(46)"
   ]
  },
  {
   "cell_type": "code",
   "execution_count": 300,
   "id": "6d16dcb5-eb06-4641-8a62-d5a52530dfde",
   "metadata": {},
   "outputs": [],
   "source": [
    "(x,y)=(0,0)\n",
    "array =[(x + h, y) for h in range(-3, 4) ] + [(x, y + h) for h in range(-3, 4)]"
   ]
  },
  {
   "cell_type": "code",
   "execution_count": 310,
   "id": "5e346e96-41e8-4f5b-9e6f-c25f31dd6fc3",
   "metadata": {},
   "outputs": [],
   "source": [
    "array=[]\n",
    "for h in range(0, 4):\n",
    "    \n",
    "    array.append((x + h, y))"
   ]
  },
  {
   "cell_type": "code",
   "execution_count": 311,
   "id": "a1c8b8cb-d2f9-4dc5-9fe2-a049f0191312",
   "metadata": {},
   "outputs": [
    {
     "name": "stdout",
     "output_type": "stream",
     "text": [
      "[(0, 0), (1, 0), (2, 0), (3, 0)]\n"
     ]
    }
   ],
   "source": [
    "print(array)"
   ]
  },
  {
   "cell_type": "code",
   "execution_count": 309,
   "id": "8793a761-72a4-4d73-9f41-4157d0d72726",
   "metadata": {},
   "outputs": [
    {
     "name": "stdout",
     "output_type": "stream",
     "text": [
      "[(-1, 0), (-2, 0), (-3, 0)]\n"
     ]
    }
   ],
   "source": [
    "print(array)"
   ]
  },
  {
   "cell_type": "code",
   "execution_count": null,
   "id": "9e4f8627-4152-4edb-b765-43be6f9797c3",
   "metadata": {},
   "outputs": [],
   "source": [
    "mat = np.ones((6,6))"
   ]
  }
 ],
 "metadata": {
  "kernelspec": {
   "display_name": "Python 3",
   "language": "python",
   "name": "python3"
  },
  "language_info": {
   "codemirror_mode": {
    "name": "ipython",
    "version": 3
   },
   "file_extension": ".py",
   "mimetype": "text/x-python",
   "name": "python",
   "nbconvert_exporter": "python",
   "pygments_lexer": "ipython3",
   "version": "3.9.5"
  }
 },
 "nbformat": 4,
 "nbformat_minor": 5
}
