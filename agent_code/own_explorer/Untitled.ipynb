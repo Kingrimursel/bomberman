{
 "cells": [
  {
   "cell_type": "code",
   "execution_count": 2,
   "id": "3b6a0812-dc52-4afe-8376-96ab8fef7278",
   "metadata": {},
   "outputs": [],
   "source": [
    "import pickle\n",
    "\n",
    "import numpy as np\n",
    "from collections import namedtuple, deque\n",
    "import random"
   ]
  },
  {
   "cell_type": "code",
   "execution_count": 113,
   "id": "195a69f7-6d34-4d4d-970f-f55c7d14c35a",
   "metadata": {},
   "outputs": [
    {
     "name": "stdout",
     "output_type": "stream",
     "text": [
      "[-100.87393836    0.40349527 -100.83487974 -100.86615972    0.14574672\n",
      " -117.01320261]\n"
     ]
    }
   ],
   "source": [
    "with open(\"my-saved-model.pt\", \"rb\") as file:\n",
    "    model = pickle.load(file)\n",
    "print(model[1,0,1,1,2,1])\n"
   ]
  },
  {
   "cell_type": "code",
   "execution_count": 3,
   "id": "7854f5f6-9f99-447d-92b9-a7b60b4f7a68",
   "metadata": {},
   "outputs": [],
   "source": [
    "Transition = namedtuple('Transition',\n",
    "                        ('state', 'action', 'next_state', 'reward'))\n",
    "action = {'UP': 0, 'RIGHT': 1, 'DOWN': 2,'LEFT': 3 , 'WAIT': 4, 'BOMB': 5}"
   ]
  },
  {
   "cell_type": "code",
   "execution_count": 4,
   "id": "408ed707-31e8-4429-be90-47bb42998793",
   "metadata": {},
   "outputs": [],
   "source": [
    "transitions = deque(maxlen=3)"
   ]
  },
  {
   "cell_type": "code",
   "execution_count": 5,
   "id": "c4e83d4c-5212-475f-8c2e-08422711009a",
   "metadata": {},
   "outputs": [],
   "source": [
    "transitions.append([[3,56,9],'UP',3,50])"
   ]
  },
  {
   "cell_type": "code",
   "execution_count": 6,
   "id": "86223eea-73ce-44f5-be7b-6be53a68c0d2",
   "metadata": {},
   "outputs": [],
   "source": [
    "actions = np.array([old_state for (old_state,a,new_state,reward) in transitions])"
   ]
  },
  {
   "cell_type": "code",
   "execution_count": 7,
   "id": "a1d31b2f-8bf0-4068-80ef-808cbf91960c",
   "metadata": {},
   "outputs": [
    {
     "name": "stdout",
     "output_type": "stream",
     "text": [
      "[56]\n"
     ]
    }
   ],
   "source": [
    "print(np.max(actions, axis=1))"
   ]
  },
  {
   "cell_type": "code",
   "execution_count": 8,
   "id": "2fa348b4-2ea8-4ba4-bb68-75db139ef5df",
   "metadata": {},
   "outputs": [],
   "source": [
    "gamma_exp = np.array([0.9**k for k in range(0,4)])"
   ]
  },
  {
   "cell_type": "code",
   "execution_count": 9,
   "id": "8aa6b353-e6d5-47f8-9a3f-1fe327a7191b",
   "metadata": {},
   "outputs": [
    {
     "name": "stdout",
     "output_type": "stream",
     "text": [
      "-6.516\n"
     ]
    }
   ],
   "source": [
    "print(np.sum(gamma_exp*np.array([0,-4,0,-4])))"
   ]
  },
  {
   "cell_type": "code",
   "execution_count": 68,
   "id": "87b3a89e-9f46-4d8c-8bc1-3c79844dec23",
   "metadata": {},
   "outputs": [],
   "source": [
    "a = [(1,2),(3,2),(0,8),(7,7)]"
   ]
  },
  {
   "cell_type": "code",
   "execution_count": 71,
   "id": "5dea335a-0bd4-4df0-a908-90c4f3e02b29",
   "metadata": {},
   "outputs": [
    {
     "name": "stdout",
     "output_type": "stream",
     "text": [
      "IN\n"
     ]
    }
   ],
   "source": [
    "if (0,8) in a:\n",
    "    print('IN')\n"
   ]
  },
  {
   "cell_type": "code",
   "execution_count": 17,
   "id": "ebfe2124-06ba-4d71-a25d-ae60ee32c483",
   "metadata": {},
   "outputs": [
    {
     "name": "stdout",
     "output_type": "stream",
     "text": [
      "-1 0\n",
      "1 0\n",
      "0 -1\n",
      "0 1\n"
     ]
    }
   ],
   "source": [
    "for num, (i,j) in enumerate([(x + h, y) for h in [-1, 1]] + [(x, y + h) for h in [-1, 1]]):   \n",
    "    print(i,j)"
   ]
  },
  {
   "cell_type": "code",
   "execution_count": 32,
   "id": "912ffa8e-91b5-489b-9604-d02e9b356439",
   "metadata": {},
   "outputs": [
    {
     "data": {
      "text/plain": [
       "'UP'"
      ]
     },
     "execution_count": 32,
     "metadata": {},
     "output_type": "execute_result"
    }
   ],
   "source": [
    "\n",
    "ACTIONS = ['UP', 'RIGHT', 'DOWN', 'LEFT', 'WAIT', 'BOMB']\n",
    "np.random.choice(ACTIONS, p=[.25, .25, .25, .25, .0, .0])"
   ]
  },
  {
   "cell_type": "code",
   "execution_count": 1,
   "id": "ff85eb5b-183f-4b23-bc5f-25494eaa4972",
   "metadata": {},
   "outputs": [],
   "source": [
    "def fun(a):\n",
    "    return a,a,True"
   ]
  },
  {
   "cell_type": "code",
   "execution_count": 2,
   "id": "59fc22ea-8761-4763-a1d6-b92f3d395a85",
   "metadata": {},
   "outputs": [],
   "source": [
    "c,d,e = fun(3)"
   ]
  },
  {
   "cell_type": "code",
   "execution_count": 3,
   "id": "82355d3d-3c62-4845-9aa5-a20216629d20",
   "metadata": {},
   "outputs": [
    {
     "name": "stdout",
     "output_type": "stream",
     "text": [
      "True\n"
     ]
    }
   ],
   "source": [
    "print(e)"
   ]
  },
  {
   "cell_type": "code",
   "execution_count": 103,
   "id": "03b1e5d8-bf68-4ab1-ab87-737e0537cf05",
   "metadata": {},
   "outputs": [
    {
     "name": "stdout",
     "output_type": "stream",
     "text": [
      "[[5. 5. 5. 5. 5. 5. 5. 5. 5. 5. 5. 5. 5. 5. 5. 5. 5.]\n",
      " [5. 5. 1. 5. 5. 5. 5. 5. 5. 5. 5. 5. 5. 5. 5. 5. 5.]\n",
      " [5. 5. 5. 1. 5. 5. 5. 5. 5. 5. 5. 5. 5. 5. 5. 5. 5.]\n",
      " [5. 5. 5. 5. 5. 5. 5. 5. 5. 5. 5. 5. 5. 5. 5. 5. 5.]\n",
      " [5. 5. 5. 5. 5. 5. 5. 5. 5. 5. 5. 5. 5. 5. 5. 5. 5.]\n",
      " [5. 5. 5. 5. 5. 5. 5. 5. 5. 5. 5. 5. 5. 5. 5. 5. 5.]\n",
      " [5. 5. 5. 5. 5. 5. 5. 5. 5. 5. 5. 5. 5. 5. 5. 5. 5.]\n",
      " [5. 5. 5. 5. 5. 5. 5. 5. 5. 5. 5. 5. 5. 5. 5. 5. 5.]\n",
      " [5. 5. 5. 5. 5. 5. 5. 5. 5. 5. 5. 5. 5. 5. 5. 5. 5.]\n",
      " [5. 5. 5. 5. 5. 5. 5. 5. 5. 5. 5. 5. 5. 5. 5. 5. 5.]\n",
      " [5. 5. 5. 5. 5. 5. 5. 5. 5. 5. 5. 5. 5. 5. 5. 5. 5.]\n",
      " [5. 5. 5. 5. 5. 5. 5. 5. 5. 5. 5. 5. 5. 5. 5. 5. 5.]\n",
      " [5. 5. 5. 5. 5. 5. 5. 5. 5. 5. 5. 5. 5. 5. 5. 5. 5.]\n",
      " [5. 5. 5. 5. 5. 5. 5. 5. 5. 5. 5. 5. 5. 5. 5. 5. 5.]\n",
      " [5. 5. 5. 5. 5. 5. 5. 5. 5. 5. 5. 5. 5. 5. 5. 5. 5.]\n",
      " [5. 5. 5. 5. 5. 5. 5. 5. 1. 5. 5. 5. 5. 5. 5. 5. 5.]\n",
      " [5. 5. 5. 5. 5. 5. 5. 5. 5. 5. 5. 5. 5. 5. 5. 5. 5.]]\n"
     ]
    }
   ],
   "source": [
    "matrix = np.ones((17,17))*5\n",
    "\n",
    "matrix[1,2]=1\n",
    "matrix[2,3]=1\n",
    "matrix[15,8]=1\n",
    "\n",
    "print(matrix)"
   ]
  },
  {
   "cell_type": "code",
   "execution_count": 104,
   "id": "b67f9a1c-bef9-48f5-b1a1-3be2f5d74df1",
   "metadata": {},
   "outputs": [],
   "source": [
    "array = [(x,y) for (x,y) in np.array(np.where(matrix+matrix<10)).T]"
   ]
  },
  {
   "cell_type": "code",
   "execution_count": 105,
   "id": "11d61e6b-879f-42d9-918e-125ee80e37dd",
   "metadata": {},
   "outputs": [
    {
     "name": "stdout",
     "output_type": "stream",
     "text": [
      "[(1, 2), (2, 3), (15, 8)]\n"
     ]
    }
   ],
   "source": [
    "print(array)"
   ]
  },
  {
   "cell_type": "code",
   "execution_count": 106,
   "id": "dd426c4d-199e-4ee4-9247-133bc3f083bf",
   "metadata": {},
   "outputs": [
    {
     "name": "stdout",
     "output_type": "stream",
     "text": [
      "[(-2, 1), (-1, 1), (0, 1), (1, 1), (2, 1), (3, 1), (4, 1), (1, -2), (1, -1), (1, 0), (1, 1), (1, 2), (1, 3), (1, 4)]\n"
     ]
    }
   ],
   "source": [
    "(x,y)=(1,1)\n",
    "\n",
    "array = [(x + h, y) for h in range(-3, 4)] + [(x, y + h) for h in range(-3, 4)]\n",
    "\n",
    "\n",
    "print(array)"
   ]
  },
  {
   "cell_type": "code",
   "execution_count": 107,
   "id": "64816a2b-7e6a-400e-937b-01a9a5ad85cb",
   "metadata": {},
   "outputs": [],
   "source": [
    "hit =[]\n",
    "\n",
    "hit = hit+[(1,2)]\n",
    "hit = hit+[(1,2)]\n",
    "hit = hit+[(1,5)]\n",
    "\n",
    "test = [(1,5)]"
   ]
  },
  {
   "cell_type": "code",
   "execution_count": 108,
   "id": "cc45e3d3-f4f0-4792-ad69-8d81cf63c5d1",
   "metadata": {},
   "outputs": [
    {
     "name": "stdout",
     "output_type": "stream",
     "text": [
      "[(1, 2), (1, 2), (1, 5)]\n"
     ]
    }
   ],
   "source": [
    "print(hit)"
   ]
  },
  {
   "cell_type": "code",
   "execution_count": 109,
   "id": "70e207d7-24b0-4df4-88a6-4a8f59d078e6",
   "metadata": {},
   "outputs": [
    {
     "data": {
      "text/plain": [
       "3"
      ]
     },
     "execution_count": 109,
     "metadata": {},
     "output_type": "execute_result"
    }
   ],
   "source": [
    "def fun(a,b,c):\n",
    "    return 3\n",
    "\n",
    "\n",
    "fun(2,(1,2)[0],(1,2)[1])"
   ]
  },
  {
   "cell_type": "code",
   "execution_count": 110,
   "id": "c8a2d538-ada0-45d4-8313-648c74c0d707",
   "metadata": {},
   "outputs": [],
   "source": [
    "\n",
    "array = [(i,j) for (i,j) in hit if matrix[i,j]<5]"
   ]
  },
  {
   "cell_type": "code",
   "execution_count": 111,
   "id": "c4629f70-95ee-4194-955f-94f908026209",
   "metadata": {},
   "outputs": [
    {
     "name": "stdout",
     "output_type": "stream",
     "text": [
      "[(1, 2), (1, 2)]\n"
     ]
    }
   ],
   "source": [
    "print(array)"
   ]
  },
  {
   "cell_type": "code",
   "execution_count": 112,
   "id": "3b615c57-90ab-4c25-889f-c2a6714eb85a",
   "metadata": {},
   "outputs": [
    {
     "data": {
      "text/plain": [
       "2.0"
      ]
     },
     "execution_count": 112,
     "metadata": {},
     "output_type": "execute_result"
    }
   ],
   "source": [
    "(matrix+matrix)[1,2]"
   ]
  },
  {
   "cell_type": "code",
   "execution_count": null,
   "id": "13457110-266f-43b7-9456-cbc720c4492c",
   "metadata": {},
   "outputs": [],
   "source": []
  }
 ],
 "metadata": {
  "kernelspec": {
   "display_name": "Python 3",
   "language": "python",
   "name": "python3"
  },
  "language_info": {
   "codemirror_mode": {
    "name": "ipython",
    "version": 3
   },
   "file_extension": ".py",
   "mimetype": "text/x-python",
   "name": "python",
   "nbconvert_exporter": "python",
   "pygments_lexer": "ipython3",
   "version": "3.9.5"
  }
 },
 "nbformat": 4,
 "nbformat_minor": 5
}
