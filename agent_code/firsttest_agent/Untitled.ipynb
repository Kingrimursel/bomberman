{
 "cells": [
  {
   "cell_type": "code",
   "execution_count": 2,
   "id": "3b6a0812-dc52-4afe-8376-96ab8fef7278",
   "metadata": {},
   "outputs": [],
   "source": [
    "import pickle\n",
    "\n",
    "import numpy as np\n"
   ]
  },
  {
   "cell_type": "code",
   "execution_count": 38,
   "id": "195a69f7-6d34-4d4d-970f-f55c7d14c35a",
   "metadata": {},
   "outputs": [],
   "source": [
    "with open(\"my-saved-model.pt\", \"rb\") as file:\n",
    "    model = pickle.load(file)\n",
    "with open(\"my-saved-model.pt\", \"wb\") as file:\n",
    "    pickle.dump(model,file)"
   ]
  },
  {
   "cell_type": "code",
   "execution_count": 5,
   "id": "47c75702-0efa-4670-ac7a-42cb139f7d65",
   "metadata": {},
   "outputs": [],
   "source": [
    "b = []\n",
    "b.append(1)\n",
    "b.append(2)\n",
    "b.append(6)\n",
    "b.append(2)\n",
    "\n",
    "b.append(1)\n",
    "b.append(5)\n",
    "\n",
    "\n",
    "a = np.stack(b)"
   ]
  },
  {
   "cell_type": "code",
   "execution_count": 6,
   "id": "8ade0d34-8cd3-4d60-ae5a-258b3a6cee7c",
   "metadata": {},
   "outputs": [
    {
     "name": "stdout",
     "output_type": "stream",
     "text": [
      "[1 2 6 2 1 5]\n"
     ]
    }
   ],
   "source": [
    "print(a)"
   ]
  },
  {
   "cell_type": "code",
   "execution_count": 7,
   "id": "5cc67b93-afa5-400d-bf0e-699eb1a13780",
   "metadata": {},
   "outputs": [],
   "source": [
    "def fun(a,b):\n",
    "    print(a)\n",
    "    return a+b"
   ]
  },
  {
   "cell_type": "code",
   "execution_count": 64,
   "id": "ca74250e-92e2-462d-93f4-71f7618f0fd5",
   "metadata": {},
   "outputs": [
    {
     "name": "stdout",
     "output_type": "stream",
     "text": [
      "1.0\n",
      "[[0.2 0.2 0.2 0.2 0.1 0.1]\n",
      " [0.2 0.2 0.2 0.2 0.1 0.1]\n",
      " [0.2 0.2 0.2 0.2 0.1 0.1]\n",
      " [0.2 0.2 0.2 0.2 0.1 0.1]\n",
      " [0.2 0.2 0.2 0.2 0.1 0.1]\n",
      " [0.2 0.2 0.2 0.2 0.1 0.1]\n",
      " [0.2 0.2 0.2 0.2 0.1 0.1]\n",
      " [0.2 0.2 0.2 0.2 0.1 0.1]\n",
      " [0.2 0.2 0.2 0.2 0.1 0.1]\n",
      " [0.2 0.2 0.2 0.2 0.1 0.1]\n",
      " [0.2 0.2 0.2 0.2 0.1 0.1]\n",
      " [0.2 0.2 0.2 0.2 0.1 0.1]\n",
      " [0.2 0.2 0.2 0.2 0.1 0.1]\n",
      " [0.2 0.2 0.2 0.2 0.1 0.1]\n",
      " [0.2 0.2 0.2 0.2 0.1 0.1]\n",
      " [0.2 0.2 0.2 0.2 0.1 0.1]\n",
      " [0.2 0.2 0.2 0.2 0.1 0.1]]\n"
     ]
    }
   ],
   "source": [
    "weigths = np.ones((17,6))*[.2, .2, .2, .2, .1, .1]\n",
    "model = weigths/weigths.sum()\n",
    "\n",
    "print(weigths)"
   ]
  },
  {
   "cell_type": "code",
   "execution_count": 9,
   "id": "754cda53-d92e-4663-ae3f-265456c6a699",
   "metadata": {},
   "outputs": [
    {
     "name": "stdout",
     "output_type": "stream",
     "text": [
      "[1 2 6 2 1 5]\n"
     ]
    }
   ],
   "source": [
    "print(a)"
   ]
  },
  {
   "cell_type": "code",
   "execution_count": 11,
   "id": "15a61ae8-2f56-497a-a4b5-cabe4390d343",
   "metadata": {},
   "outputs": [
    {
     "name": "stdout",
     "output_type": "stream",
     "text": [
      "2\n"
     ]
    }
   ],
   "source": [
    "print(np.argmax(a))"
   ]
  },
  {
   "cell_type": "code",
   "execution_count": 12,
   "id": "85ddbe58-ac8e-472a-8d25-e6133ecefc56",
   "metadata": {},
   "outputs": [],
   "source": [
    "a = np.ones((3840,5))"
   ]
  },
  {
   "cell_type": "code",
   "execution_count": 14,
   "id": "dcb21731-392f-4629-bf59-e75faac28534",
   "metadata": {},
   "outputs": [
    {
     "name": "stdout",
     "output_type": "stream",
     "text": [
      "(3840, 5)\n"
     ]
    }
   ],
   "source": [
    "print(a.shape)"
   ]
  },
  {
   "cell_type": "code",
   "execution_count": 39,
   "id": "a3dae23b-3f75-432a-a56d-90ec64103297",
   "metadata": {},
   "outputs": [],
   "source": []
  },
  {
   "cell_type": "code",
   "execution_count": 40,
   "id": "93248a2a-bef1-4459-8afd-bb0cc3f40c2b",
   "metadata": {},
   "outputs": [
    {
     "name": "stdout",
     "output_type": "stream",
     "text": [
      "[[1. 0. 0. 0. 0. 0.]\n",
      " [0. 0. 0. 0. 0. 0.]\n",
      " [0. 0. 0. 0. 0. 0.]\n",
      " ...\n",
      " [0. 0. 0. 0. 0. 0.]\n",
      " [0. 0. 0. 0. 0. 0.]\n",
      " [0. 0. 0. 0. 0. 0.]]\n"
     ]
    }
   ],
   "source": []
  },
  {
   "cell_type": "code",
   "execution_count": 131,
   "id": "d5bbcedc-b9f3-45b5-be51-42a2f0e61bef",
   "metadata": {},
   "outputs": [],
   "source": [
    "a = np.array([[True, False, False, True],[False, True, True, True]])"
   ]
  },
  {
   "cell_type": "code",
   "execution_count": 132,
   "id": "9c2b759e-0412-4815-b3fe-1e7813f8552e",
   "metadata": {},
   "outputs": [],
   "source": [
    "coins = [(1,(2,3)),(6,(3,2)),(4,(1,1))]"
   ]
  },
  {
   "cell_type": "code",
   "execution_count": 136,
   "id": "bae0e28d-3a28-4e85-8b1f-670df66a7279",
   "metadata": {},
   "outputs": [
    {
     "data": {
      "text/plain": [
       "False"
      ]
     },
     "execution_count": 136,
     "metadata": {},
     "output_type": "execute_result"
    }
   ],
   "source": [
    "a[0,1]"
   ]
  },
  {
   "cell_type": "code",
   "execution_count": 137,
   "id": "684a2e31-60ef-463b-bad8-367c302444bf",
   "metadata": {},
   "outputs": [
    {
     "data": {
      "text/plain": [
       "True"
      ]
     },
     "execution_count": 137,
     "metadata": {},
     "output_type": "execute_result"
    }
   ],
   "source": [
    "a[xy[0],xy[1]]"
   ]
  },
  {
   "cell_type": "code",
   "execution_count": 114,
   "id": "bf37a3fa-eb33-4aa9-b501-f3eed6fb23cf",
   "metadata": {},
   "outputs": [
    {
     "name": "stdout",
     "output_type": "stream",
     "text": [
      "(6, 1)\n"
     ]
    }
   ],
   "source": [
    "d=5\n",
    "d-=3\n",
    "print(t)"
   ]
  },
  {
   "cell_type": "code",
   "execution_count": 84,
   "id": "80b48161-a5e0-4d9c-a388-2116a2d7ec43",
   "metadata": {},
   "outputs": [
    {
     "data": {
      "text/plain": [
       "1"
      ]
     },
     "execution_count": 84,
     "metadata": {},
     "output_type": "execute_result"
    }
   ],
   "source": [
    "len(coins)"
   ]
  },
  {
   "cell_type": "code",
   "execution_count": 140,
   "id": "16c67aa8-21b4-4279-99c5-a958c8e36a2c",
   "metadata": {},
   "outputs": [
    {
     "name": "stdout",
     "output_type": "stream",
     "text": [
      "-1\n",
      "1\n"
     ]
    }
   ],
   "source": [
    "for   i in [-1,+1]:\n",
    "    print(i)"
   ]
  },
  {
   "cell_type": "code",
   "execution_count": 149,
   "id": "788d388f-ab69-4bd1-88cc-545d0acd8975",
   "metadata": {},
   "outputs": [
    {
     "name": "stdout",
     "output_type": "stream",
     "text": [
      "0\n",
      "(-1, 0)\n",
      "1\n",
      "(1, 0)\n",
      "2\n",
      "(0, -1)\n",
      "3\n",
      "(0, 1)\n"
     ]
    }
   ],
   "source": [
    "(x,y)=(0,0)\n",
    "\n",
    "for num, (i,j) in enumerate([(x + h, y) for h in [-1, 1]] + [(x, y + h) for h in [-1, 1]]):\n",
    "    print(num)\n",
    "    print((i,j))\n",
    "    "
   ]
  },
  {
   "cell_type": "code",
   "execution_count": 5,
   "id": "074c1b57-7078-42d4-b84d-54dbe89ff26c",
   "metadata": {},
   "outputs": [],
   "source": [
    "array= np.ones((4,4,4,4,5,3,5))"
   ]
  },
  {
   "cell_type": "code",
   "execution_count": 38,
   "id": "8e8f862c-811a-49b5-8d93-4743ba430303",
   "metadata": {},
   "outputs": [
    {
     "name": "stdout",
     "output_type": "stream",
     "text": [
      "(0, 1, 2, 1, 1, 1)\n"
     ]
    }
   ],
   "source": [
    "b = tuple((0,1,2,1,1,1))\n",
    "print(b)"
   ]
  },
  {
   "cell_type": "code",
   "execution_count": 39,
   "id": "258211d0-8770-457d-b5b6-c06ea7f56d8c",
   "metadata": {},
   "outputs": [
    {
     "data": {
      "text/plain": [
       "array([1., 1., 1., 1., 1.])"
      ]
     },
     "execution_count": 39,
     "metadata": {},
     "output_type": "execute_result"
    }
   ],
   "source": [
    "array[b]"
   ]
  },
  {
   "cell_type": "code",
   "execution_count": 33,
   "id": "418ec16f-60cd-4f3e-b065-03a754b49c89",
   "metadata": {},
   "outputs": [],
   "source": [
    "c = np.array([0,0,0,1,2,1])"
   ]
  },
  {
   "cell_type": "code",
   "execution_count": 40,
   "id": "0dc99b58-2775-4b1b-9993-556e68737e1a",
   "metadata": {},
   "outputs": [
    {
     "name": "stdout",
     "output_type": "stream",
     "text": [
      "(0, 0, 0, 1, 2, 1)\n",
      "[1. 1. 1. 1. 1.]\n"
     ]
    }
   ],
   "source": [
    "d = tuple(c)\n",
    "print(d)\n",
    "print(array[d])"
   ]
  },
  {
   "cell_type": "code",
   "execution_count": null,
   "id": "ce6f25c6-340d-4571-becb-793fceddbd9e",
   "metadata": {},
   "outputs": [],
   "source": []
  },
  {
   "cell_type": "code",
   "execution_count": null,
   "id": "51ad2dd3-544f-4337-a43f-640e49bcead1",
   "metadata": {},
   "outputs": [],
   "source": []
  }
 ],
 "metadata": {
  "kernelspec": {
   "display_name": "Python 3",
   "language": "python",
   "name": "python3"
  },
  "language_info": {
   "codemirror_mode": {
    "name": "ipython",
    "version": 3
   },
   "file_extension": ".py",
   "mimetype": "text/x-python",
   "name": "python",
   "nbconvert_exporter": "python",
   "pygments_lexer": "ipython3",
   "version": "3.9.5"
  }
 },
 "nbformat": 4,
 "nbformat_minor": 5
}
