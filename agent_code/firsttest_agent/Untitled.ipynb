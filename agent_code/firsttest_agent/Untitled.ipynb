{
 "cells": [
  {
   "cell_type": "code",
   "execution_count": 66,
   "id": "3b6a0812-dc52-4afe-8376-96ab8fef7278",
   "metadata": {},
   "outputs": [],
   "source": [
    "import pickle\n",
    "\n",
    "import numpy as np\n",
    "from collections import namedtuple, deque\n",
    "import random"
   ]
  },
  {
   "cell_type": "code",
   "execution_count": 190,
   "id": "195a69f7-6d34-4d4d-970f-f55c7d14c35a",
   "metadata": {},
   "outputs": [
    {
     "name": "stdout",
     "output_type": "stream",
     "text": [
      "[-4.1494017  -4.1494017  -4.1494017  -4.1494017  -4.14959509 -4.14959509]\n"
     ]
    }
   ],
   "source": [
    "with open(\"my-saved-model.pt\", \"rb\") as file:\n",
    "    model = pickle.load(file)\n",
    "print(model)"
   ]
  },
  {
   "cell_type": "code",
   "execution_count": 81,
   "id": "47c75702-0efa-4670-ac7a-42cb139f7d65",
   "metadata": {},
   "outputs": [],
   "source": [
    "b = []\n",
    "b.append(1)\n",
    "b.append(2)\n",
    "b.append(6)\n",
    "b.append(2)\n",
    "\n",
    "b.append(1)\n",
    "b.append(5)\n",
    "\n",
    "\n",
    "a = np.stack(b)"
   ]
  },
  {
   "cell_type": "code",
   "execution_count": 82,
   "id": "8ade0d34-8cd3-4d60-ae5a-258b3a6cee7c",
   "metadata": {},
   "outputs": [
    {
     "name": "stdout",
     "output_type": "stream",
     "text": [
      "[1 2 6 2 1 5]\n"
     ]
    }
   ],
   "source": [
    "print(a)"
   ]
  },
  {
   "cell_type": "code",
   "execution_count": 83,
   "id": "5cc67b93-afa5-400d-bf0e-699eb1a13780",
   "metadata": {},
   "outputs": [],
   "source": [
    "def fun(a,b):\n",
    "    print(a)\n",
    "    return a+b"
   ]
  },
  {
   "cell_type": "code",
   "execution_count": 84,
   "id": "ca74250e-92e2-462d-93f4-71f7618f0fd5",
   "metadata": {},
   "outputs": [
    {
     "name": "stdout",
     "output_type": "stream",
     "text": [
      "[[0.2 0.2 0.2 0.2 0.1 0.1]\n",
      " [0.2 0.2 0.2 0.2 0.1 0.1]\n",
      " [0.2 0.2 0.2 0.2 0.1 0.1]\n",
      " [0.2 0.2 0.2 0.2 0.1 0.1]\n",
      " [0.2 0.2 0.2 0.2 0.1 0.1]\n",
      " [0.2 0.2 0.2 0.2 0.1 0.1]\n",
      " [0.2 0.2 0.2 0.2 0.1 0.1]\n",
      " [0.2 0.2 0.2 0.2 0.1 0.1]\n",
      " [0.2 0.2 0.2 0.2 0.1 0.1]\n",
      " [0.2 0.2 0.2 0.2 0.1 0.1]\n",
      " [0.2 0.2 0.2 0.2 0.1 0.1]\n",
      " [0.2 0.2 0.2 0.2 0.1 0.1]\n",
      " [0.2 0.2 0.2 0.2 0.1 0.1]\n",
      " [0.2 0.2 0.2 0.2 0.1 0.1]\n",
      " [0.2 0.2 0.2 0.2 0.1 0.1]\n",
      " [0.2 0.2 0.2 0.2 0.1 0.1]\n",
      " [0.2 0.2 0.2 0.2 0.1 0.1]]\n"
     ]
    }
   ],
   "source": [
    "weigths = np.ones((17,6))*[.2, .2, .2, .2, .1, .1]\n",
    "model = weigths/weigths.sum()\n",
    "\n",
    "print(weigths)"
   ]
  },
  {
   "cell_type": "code",
   "execution_count": 85,
   "id": "754cda53-d92e-4663-ae3f-265456c6a699",
   "metadata": {},
   "outputs": [
    {
     "name": "stdout",
     "output_type": "stream",
     "text": [
      "[1 2 6 2 1 5]\n"
     ]
    }
   ],
   "source": [
    "print(a)"
   ]
  },
  {
   "cell_type": "code",
   "execution_count": 86,
   "id": "15a61ae8-2f56-497a-a4b5-cabe4390d343",
   "metadata": {},
   "outputs": [
    {
     "name": "stdout",
     "output_type": "stream",
     "text": [
      "2\n"
     ]
    }
   ],
   "source": [
    "print(np.argmax(a))"
   ]
  },
  {
   "cell_type": "code",
   "execution_count": 87,
   "id": "85ddbe58-ac8e-472a-8d25-e6133ecefc56",
   "metadata": {},
   "outputs": [],
   "source": [
    "a = np.ones((3840,5))"
   ]
  },
  {
   "cell_type": "code",
   "execution_count": 88,
   "id": "dcb21731-392f-4629-bf59-e75faac28534",
   "metadata": {},
   "outputs": [
    {
     "name": "stdout",
     "output_type": "stream",
     "text": [
      "(3840, 5)\n"
     ]
    }
   ],
   "source": [
    "print(a.shape)"
   ]
  },
  {
   "cell_type": "code",
   "execution_count": null,
   "id": "a3dae23b-3f75-432a-a56d-90ec64103297",
   "metadata": {},
   "outputs": [],
   "source": []
  },
  {
   "cell_type": "code",
   "execution_count": null,
   "id": "93248a2a-bef1-4459-8afd-bb0cc3f40c2b",
   "metadata": {},
   "outputs": [],
   "source": []
  },
  {
   "cell_type": "code",
   "execution_count": 89,
   "id": "d5bbcedc-b9f3-45b5-be51-42a2f0e61bef",
   "metadata": {},
   "outputs": [],
   "source": [
    "a = np.array([[True, False, False, True],[False, True, True, True]])"
   ]
  },
  {
   "cell_type": "code",
   "execution_count": 90,
   "id": "9c2b759e-0412-4815-b3fe-1e7813f8552e",
   "metadata": {},
   "outputs": [],
   "source": [
    "coins = [(1,(2,3)),(6,(3,2)),(4,(1,1))]"
   ]
  },
  {
   "cell_type": "code",
   "execution_count": 91,
   "id": "bae0e28d-3a28-4e85-8b1f-670df66a7279",
   "metadata": {},
   "outputs": [
    {
     "data": {
      "text/plain": [
       "False"
      ]
     },
     "execution_count": 91,
     "metadata": {},
     "output_type": "execute_result"
    }
   ],
   "source": [
    "a[0,1]"
   ]
  },
  {
   "cell_type": "code",
   "execution_count": null,
   "id": "684a2e31-60ef-463b-bad8-367c302444bf",
   "metadata": {},
   "outputs": [],
   "source": []
  },
  {
   "cell_type": "code",
   "execution_count": null,
   "id": "bf37a3fa-eb33-4aa9-b501-f3eed6fb23cf",
   "metadata": {},
   "outputs": [],
   "source": []
  },
  {
   "cell_type": "code",
   "execution_count": 20,
   "id": "80b48161-a5e0-4d9c-a388-2116a2d7ec43",
   "metadata": {},
   "outputs": [
    {
     "data": {
      "text/plain": [
       "3"
      ]
     },
     "execution_count": 20,
     "metadata": {},
     "output_type": "execute_result"
    }
   ],
   "source": [
    "len(coins)"
   ]
  },
  {
   "cell_type": "code",
   "execution_count": 21,
   "id": "16c67aa8-21b4-4279-99c5-a958c8e36a2c",
   "metadata": {},
   "outputs": [
    {
     "name": "stdout",
     "output_type": "stream",
     "text": [
      "-1\n",
      "1\n"
     ]
    }
   ],
   "source": [
    "for   i in [-1,+1]:\n",
    "    print(i)"
   ]
  },
  {
   "cell_type": "code",
   "execution_count": 22,
   "id": "788d388f-ab69-4bd1-88cc-545d0acd8975",
   "metadata": {},
   "outputs": [
    {
     "name": "stdout",
     "output_type": "stream",
     "text": [
      "0\n",
      "(-1, 0)\n",
      "1\n",
      "(1, 0)\n",
      "2\n",
      "(0, -1)\n",
      "3\n",
      "(0, 1)\n"
     ]
    }
   ],
   "source": [
    "(x,y)=(0,0)\n",
    "\n",
    "for num, (i,j) in enumerate([(x + h, y) for h in [-1, 1]] + [(x, y + h) for h in [-1, 1]]):\n",
    "    print(num)\n",
    "    print((i,j))\n",
    "    "
   ]
  },
  {
   "cell_type": "code",
   "execution_count": 23,
   "id": "074c1b57-7078-42d4-b84d-54dbe89ff26c",
   "metadata": {},
   "outputs": [],
   "source": [
    "array= np.ones((4,4,4,4,5,3,5))"
   ]
  },
  {
   "cell_type": "code",
   "execution_count": 24,
   "id": "8e8f862c-811a-49b5-8d93-4743ba430303",
   "metadata": {},
   "outputs": [
    {
     "name": "stdout",
     "output_type": "stream",
     "text": [
      "(0, 1, 2, 1, 1, 1)\n"
     ]
    }
   ],
   "source": [
    "b = tuple((0,1,2,1,1,1))\n",
    "print(b)"
   ]
  },
  {
   "cell_type": "code",
   "execution_count": 25,
   "id": "258211d0-8770-457d-b5b6-c06ea7f56d8c",
   "metadata": {},
   "outputs": [
    {
     "data": {
      "text/plain": [
       "array([1., 1., 1., 1., 1.])"
      ]
     },
     "execution_count": 25,
     "metadata": {},
     "output_type": "execute_result"
    }
   ],
   "source": [
    "array[b]"
   ]
  },
  {
   "cell_type": "code",
   "execution_count": 97,
   "id": "418ec16f-60cd-4f3e-b065-03a754b49c89",
   "metadata": {},
   "outputs": [
    {
     "name": "stdout",
     "output_type": "stream",
     "text": [
      "2\n"
     ]
    }
   ],
   "source": [
    "c = np.array([0,0,0,1,2,1])\n",
    "\n",
    "print(np.max(c))"
   ]
  },
  {
   "cell_type": "code",
   "execution_count": 27,
   "id": "0dc99b58-2775-4b1b-9993-556e68737e1a",
   "metadata": {},
   "outputs": [
    {
     "name": "stdout",
     "output_type": "stream",
     "text": [
      "(0, 0, 0, 1, 2, 1)\n",
      "[1. 1. 1. 1. 1.]\n"
     ]
    }
   ],
   "source": [
    "d = tuple(c)\n",
    "print(d)\n",
    "print(array[d])"
   ]
  },
  {
   "cell_type": "code",
   "execution_count": 28,
   "id": "ce6f25c6-340d-4571-becb-793fceddbd9e",
   "metadata": {},
   "outputs": [],
   "source": [
    "a = 1==1==1==2"
   ]
  },
  {
   "cell_type": "code",
   "execution_count": 29,
   "id": "51ad2dd3-544f-4337-a43f-640e49bcead1",
   "metadata": {},
   "outputs": [
    {
     "name": "stdout",
     "output_type": "stream",
     "text": [
      "False\n"
     ]
    }
   ],
   "source": [
    "print(a)"
   ]
  },
  {
   "cell_type": "code",
   "execution_count": 32,
   "id": "82e64b4a-d66c-4d0c-81d4-60957606ebc1",
   "metadata": {},
   "outputs": [
    {
     "name": "stdout",
     "output_type": "stream",
     "text": [
      "4\n"
     ]
    }
   ],
   "source": [
    "print(np.argmax(d))"
   ]
  },
  {
   "cell_type": "code",
   "execution_count": 36,
   "id": "38c0163b-3f70-4f06-b4ee-e1774893a44e",
   "metadata": {},
   "outputs": [
    {
     "name": "stdout",
     "output_type": "stream",
     "text": [
      "1\n"
     ]
    }
   ],
   "source": [
    "x=3\n",
    "if 1<x<7:\n",
    "    print(1)"
   ]
  },
  {
   "cell_type": "code",
   "execution_count": 43,
   "id": "cfd3352a-9553-46e7-a7b9-ff08058bc69e",
   "metadata": {},
   "outputs": [
    {
     "name": "stdout",
     "output_type": "stream",
     "text": [
      "f\n"
     ]
    }
   ],
   "source": [
    "if(False): x=0\n",
    "#comment\n",
    "elif(3<9):\n",
    "    print('f')"
   ]
  },
  {
   "cell_type": "code",
   "execution_count": 46,
   "id": "3f8ecef8-3636-49bf-9186-efca40f48088",
   "metadata": {},
   "outputs": [
    {
     "name": "stdout",
     "output_type": "stream",
     "text": [
      "lol\n"
     ]
    }
   ],
   "source": [
    "x = False\n",
    "\n",
    "\n",
    "if not x:\n",
    "    print('lol')"
   ]
  },
  {
   "cell_type": "code",
   "execution_count": 98,
   "id": "3a0f8350-7fe6-46cc-8b12-501ae030ff03",
   "metadata": {},
   "outputs": [],
   "source": [
    "Transition =namedtuple('Transition',('state','action','next_state','reward'))"
   ]
  },
  {
   "cell_type": "code",
   "execution_count": 99,
   "id": "abb1bcea-d1f2-4876-9589-c11e7dbc48e1",
   "metadata": {},
   "outputs": [],
   "source": [
    "transitions = deque(maxlen=3)"
   ]
  },
  {
   "cell_type": "code",
   "execution_count": 107,
   "id": "a3151581-3828-47c8-bfa2-e6e17912ecd8",
   "metadata": {},
   "outputs": [],
   "source": [
    "transitions.append(Transition(2,2,2,90))"
   ]
  },
  {
   "cell_type": "code",
   "execution_count": 108,
   "id": "c249434a-244f-4b1e-a3bd-50c5e6436044",
   "metadata": {},
   "outputs": [
    {
     "name": "stdout",
     "output_type": "stream",
     "text": [
      "2\n"
     ]
    }
   ],
   "source": [
    "a =transitions.pop()[0]\n",
    "print(a)"
   ]
  },
  {
   "cell_type": "code",
   "execution_count": 70,
   "id": "0781ae08-eab3-45f1-be25-2a9b61d9e3c9",
   "metadata": {},
   "outputs": [
    {
     "name": "stdout",
     "output_type": "stream",
     "text": [
      "0.5223075322684599\n"
     ]
    }
   ],
   "source": [
    "print(random.random())"
   ]
  },
  {
   "cell_type": "code",
   "execution_count": 75,
   "id": "a3bfd31b-e085-4136-b9bb-281c82b1ec96",
   "metadata": {},
   "outputs": [
    {
     "data": {
      "text/plain": [
       "5"
      ]
     },
     "execution_count": 75,
     "metadata": {},
     "output_type": "execute_result"
    }
   ],
   "source": [
    "transitions[0][0]"
   ]
  },
  {
   "cell_type": "code",
   "execution_count": 196,
   "id": "d7ea5cc2-de85-436e-9b72-cb20c0ebcd26",
   "metadata": {},
   "outputs": [
    {
     "name": "stdout",
     "output_type": "stream",
     "text": [
      "(0, 0, 0, 0, 0, 0)\n"
     ]
    }
   ],
   "source": [
    "a=np.ones((4,4,4,4,5,3))\n",
    "\n",
    "b = tuple(np.array([0,0,0,0,0,0]))\n",
    "\n",
    "c = tuple(np.zeros(6,dtype='int'))\n",
    "print(b)"
   ]
  },
  {
   "cell_type": "code",
   "execution_count": 176,
   "id": "0c7216d1-1c0a-47dd-813c-75409eff0fec",
   "metadata": {},
   "outputs": [
    {
     "name": "stdout",
     "output_type": "stream",
     "text": [
      "1.0\n"
     ]
    }
   ],
   "source": [
    "print(a[c])"
   ]
  },
  {
   "cell_type": "code",
   "execution_count": 177,
   "id": "6d290005-dd3e-4c79-97a6-3d8185803c88",
   "metadata": {},
   "outputs": [],
   "source": [
    "model =np.ones((4,4,4,4,5,3,6))*[.25, .25, .25, .25, .0, .0]"
   ]
  },
  {
   "cell_type": "code",
   "execution_count": 169,
   "id": "e4c28aaf-6c82-495c-ac15-4edc1a0e848f",
   "metadata": {},
   "outputs": [
    {
     "name": "stdout",
     "output_type": "stream",
     "text": [
      "[0.5 0.5 0.  0.  0.  0. ]\n"
     ]
    }
   ],
   "source": [
    "\n",
    "\n",
    "\n",
    "model[b] = [.5,.5,0,0,0,0]\n",
    "\n",
    "print(model[0,0,0,0,0,1])"
   ]
  },
  {
   "cell_type": "code",
   "execution_count": 170,
   "id": "5dd81b44-6aed-40f3-8a4a-43ca9290f986",
   "metadata": {},
   "outputs": [
    {
     "name": "stdout",
     "output_type": "stream",
     "text": [
      "[0.5 0.5 0.  0.  0.  0. ]\n"
     ]
    }
   ],
   "source": [
    "print(model[0,0,0,0,0,1])"
   ]
  },
  {
   "cell_type": "code",
   "execution_count": 171,
   "id": "e656cc0a-1e2a-405f-a5db-497f0c3c0848",
   "metadata": {},
   "outputs": [],
   "source": [
    "with open(\"test.pt\", \"rb\") as file:\n",
    "    model = pickle.load(file)"
   ]
  },
  {
   "cell_type": "code",
   "execution_count": 194,
   "id": "95055709-9027-412e-8e78-e9f03170b5ff",
   "metadata": {},
   "outputs": [],
   "source": [
    "model[0,0,0,0,0,1]=model[0,0,0,0,0,1]+2"
   ]
  },
  {
   "cell_type": "code",
   "execution_count": 195,
   "id": "55c3eacf-55ad-44cf-ac28-c416767cd5b3",
   "metadata": {},
   "outputs": [
    {
     "name": "stdout",
     "output_type": "stream",
     "text": [
      "[2.25 2.25 2.25 2.25 2.   2.  ]\n"
     ]
    }
   ],
   "source": [
    "print(model[0,0,0,0,0,1])"
   ]
  },
  {
   "cell_type": "code",
   "execution_count": 178,
   "id": "546b4d36-a1ac-4e16-9e4e-ebef9b7b04a9",
   "metadata": {},
   "outputs": [],
   "source": [
    "\n",
    "model[b] = model[b] + 0.1*(4+0.9*(np.max(model[1,0,0,0,0,0]))-model[b])"
   ]
  },
  {
   "cell_type": "code",
   "execution_count": 199,
   "id": "84b97e6e-a91f-45f5-83e0-54fa19724be9",
   "metadata": {},
   "outputs": [
    {
     "data": {
      "text/plain": [
       "0.25"
      ]
     },
     "execution_count": 199,
     "metadata": {},
     "output_type": "execute_result"
    }
   ],
   "source": [
    "model[b][1]"
   ]
  },
  {
   "cell_type": "code",
   "execution_count": 192,
   "id": "b6fb2168-a958-42f1-b7c1-0508d34f073d",
   "metadata": {},
   "outputs": [],
   "source": [
    "with open(\"my-saved-model.pt\", \"rb\") as file:\n",
    "    model = pickle.load(file)\n"
   ]
  },
  {
   "cell_type": "code",
   "execution_count": 200,
   "id": "201011f3-781f-4dc5-9593-93bc8895bee0",
   "metadata": {},
   "outputs": [],
   "source": [
    "ACTIONS = ['UP', 'RIGHT', 'DOWN', 'LEFT', 'WAIT', 'BOMB']"
   ]
  },
  {
   "cell_type": "code",
   "execution_count": 204,
   "id": "965b7e31-5407-40b8-b657-9f1e20d21b4a",
   "metadata": {},
   "outputs": [],
   "source": [
    "actions = {'UP': 0, 'RIGHT': 1, 'DOWN': 2,'LEFT': 3 , 'WAIT': 4, 'BOMB': 5}"
   ]
  },
  {
   "cell_type": "code",
   "execution_count": 207,
   "id": "f363d5e2-b18b-46b7-bc8e-7c598c40a176",
   "metadata": {},
   "outputs": [
    {
     "data": {
      "text/plain": [
       "4"
      ]
     },
     "execution_count": 207,
     "metadata": {},
     "output_type": "execute_result"
    }
   ],
   "source": [
    "string = 'WAIT'\n",
    "\n",
    "\n",
    "actions[string]"
   ]
  },
  {
   "cell_type": "code",
   "execution_count": 208,
   "id": "d7264b61-ff4a-4dd5-a0ff-0be16fea28ee",
   "metadata": {},
   "outputs": [
    {
     "data": {
      "text/plain": [
       "545"
      ]
     },
     "execution_count": 208,
     "metadata": {},
     "output_type": "execute_result"
    }
   ],
   "source": [
    "max([1,2,3,545])"
   ]
  },
  {
   "cell_type": "code",
   "execution_count": null,
   "id": "eaaac5dc-7cdb-4f7b-ad71-fa198bdac158",
   "metadata": {},
   "outputs": [],
   "source": []
  }
 ],
 "metadata": {
  "kernelspec": {
   "display_name": "Python 3",
   "language": "python",
   "name": "python3"
  },
  "language_info": {
   "codemirror_mode": {
    "name": "ipython",
    "version": 3
   },
   "file_extension": ".py",
   "mimetype": "text/x-python",
   "name": "python",
   "nbconvert_exporter": "python",
   "pygments_lexer": "ipython3",
   "version": "3.9.5"
  }
 },
 "nbformat": 4,
 "nbformat_minor": 5
}
