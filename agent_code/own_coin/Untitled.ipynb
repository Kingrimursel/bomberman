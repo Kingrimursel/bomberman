{
 "cells": [
  {
   "cell_type": "code",
   "execution_count": 2,
   "id": "3b6a0812-dc52-4afe-8376-96ab8fef7278",
   "metadata": {},
   "outputs": [],
   "source": [
    "import pickle\n",
    "\n",
    "import numpy as np\n",
    "from collections import namedtuple, deque\n",
    "import random"
   ]
  },
  {
   "cell_type": "code",
   "execution_count": 16,
   "id": "195a69f7-6d34-4d4d-970f-f55c7d14c35a",
   "metadata": {},
   "outputs": [
    {
     "name": "stdout",
     "output_type": "stream",
     "text": [
      "[ 0.44932797  0.65115972  0.24493613  2.01061579 -3.52       -2.59859613]\n",
      "-6.327082561554643\n"
     ]
    }
   ],
   "source": [
    "with open(\"my-saved-model.pt\", \"rb\") as file:\n",
    "    model = pickle.load(file)\n",
    "print(model[3,0,1,1,1,0])\n",
    "\n",
    "print(np.min(model))"
   ]
  },
  {
   "cell_type": "code",
   "execution_count": 3,
   "id": "7854f5f6-9f99-447d-92b9-a7b60b4f7a68",
   "metadata": {},
   "outputs": [],
   "source": [
    "Transition = namedtuple('Transition',\n",
    "                        ('state', 'action', 'next_state', 'reward'))\n",
    "action = {'UP': 0, 'RIGHT': 1, 'DOWN': 2,'LEFT': 3 , 'WAIT': 4, 'BOMB': 5}"
   ]
  },
  {
   "cell_type": "code",
   "execution_count": 4,
   "id": "408ed707-31e8-4429-be90-47bb42998793",
   "metadata": {},
   "outputs": [],
   "source": [
    "transitions = deque(maxlen=3)"
   ]
  },
  {
   "cell_type": "code",
   "execution_count": 5,
   "id": "c4e83d4c-5212-475f-8c2e-08422711009a",
   "metadata": {},
   "outputs": [],
   "source": [
    "transitions.append([[3,56,9],'UP',3,50])"
   ]
  },
  {
   "cell_type": "code",
   "execution_count": 6,
   "id": "86223eea-73ce-44f5-be7b-6be53a68c0d2",
   "metadata": {},
   "outputs": [],
   "source": [
    "actions = np.array([old_state for (old_state,a,new_state,reward) in transitions])"
   ]
  },
  {
   "cell_type": "code",
   "execution_count": 7,
   "id": "a1d31b2f-8bf0-4068-80ef-808cbf91960c",
   "metadata": {},
   "outputs": [
    {
     "name": "stdout",
     "output_type": "stream",
     "text": [
      "[56]\n"
     ]
    }
   ],
   "source": [
    "print(np.max(actions, axis=1))"
   ]
  },
  {
   "cell_type": "code",
   "execution_count": 8,
   "id": "2fa348b4-2ea8-4ba4-bb68-75db139ef5df",
   "metadata": {},
   "outputs": [],
   "source": [
    "gamma_exp = np.array([0.9**k for k in range(0,4)])"
   ]
  },
  {
   "cell_type": "code",
   "execution_count": 9,
   "id": "8aa6b353-e6d5-47f8-9a3f-1fe327a7191b",
   "metadata": {},
   "outputs": [
    {
     "name": "stdout",
     "output_type": "stream",
     "text": [
      "-6.516\n"
     ]
    }
   ],
   "source": [
    "print(np.sum(gamma_exp*np.array([0,-4,0,-4])))"
   ]
  },
  {
   "cell_type": "code",
   "execution_count": 10,
   "id": "87b3a89e-9f46-4d8c-8bc1-3c79844dec23",
   "metadata": {},
   "outputs": [],
   "source": [
    "a = [(1,2),(3,2),(0,8),(7,7)]"
   ]
  },
  {
   "cell_type": "code",
   "execution_count": 11,
   "id": "5dea335a-0bd4-4df0-a908-90c4f3e02b29",
   "metadata": {},
   "outputs": [
    {
     "name": "stdout",
     "output_type": "stream",
     "text": [
      "IN\n"
     ]
    }
   ],
   "source": [
    "if (1,2) in a:\n",
    "    print('IN')\n",
    "    \n",
    "    \n",
    "(x,y)=(0,0)"
   ]
  },
  {
   "cell_type": "code",
   "execution_count": 14,
   "id": "ebfe2124-06ba-4d71-a25d-ae60ee32c483",
   "metadata": {},
   "outputs": [
    {
     "name": "stdout",
     "output_type": "stream",
     "text": [
      "-1 0\n",
      "1 0\n",
      "0 -1\n",
      "0 1\n"
     ]
    }
   ],
   "source": [
    "for num, (i,j) in enumerate([(x + h, y) for h in [-1, 1]] + [(x, y + h) for h in [-1, 1]]):   \n",
    "    print(i,j)"
   ]
  },
  {
   "cell_type": "code",
   "execution_count": 32,
   "id": "912ffa8e-91b5-489b-9604-d02e9b356439",
   "metadata": {},
   "outputs": [
    {
     "data": {
      "text/plain": [
       "'UP'"
      ]
     },
     "execution_count": 32,
     "metadata": {},
     "output_type": "execute_result"
    }
   ],
   "source": [
    "\n",
    "ACTIONS = ['UP', 'RIGHT', 'DOWN', 'LEFT', 'WAIT', 'BOMB']\n",
    "np.random.choice(ACTIONS, p=[.25, .25, .25, .25, .0, .0])"
   ]
  },
  {
   "cell_type": "code",
   "execution_count": 1,
   "id": "ff85eb5b-183f-4b23-bc5f-25494eaa4972",
   "metadata": {},
   "outputs": [],
   "source": [
    "def fun(a):\n",
    "    return a,a,True"
   ]
  },
  {
   "cell_type": "code",
   "execution_count": 2,
   "id": "59fc22ea-8761-4763-a1d6-b92f3d395a85",
   "metadata": {},
   "outputs": [],
   "source": [
    "c,d,e = fun(3)"
   ]
  },
  {
   "cell_type": "code",
   "execution_count": 3,
   "id": "82355d3d-3c62-4845-9aa5-a20216629d20",
   "metadata": {},
   "outputs": [
    {
     "name": "stdout",
     "output_type": "stream",
     "text": [
      "True\n"
     ]
    }
   ],
   "source": [
    "print(e)"
   ]
  },
  {
   "cell_type": "code",
   "execution_count": null,
   "id": "03b1e5d8-bf68-4ab1-ab87-737e0537cf05",
   "metadata": {},
   "outputs": [],
   "source": []
  }
 ],
 "metadata": {
  "kernelspec": {
   "display_name": "Python 3",
   "language": "python",
   "name": "python3"
  },
  "language_info": {
   "codemirror_mode": {
    "name": "ipython",
    "version": 3
   },
   "file_extension": ".py",
   "mimetype": "text/x-python",
   "name": "python",
   "nbconvert_exporter": "python",
   "pygments_lexer": "ipython3",
   "version": "3.9.5"
  }
 },
 "nbformat": 4,
 "nbformat_minor": 5
}
